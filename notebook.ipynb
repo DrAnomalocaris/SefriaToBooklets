{
 "cells": [
  {
   "cell_type": "code",
   "execution_count": 6,
   "metadata": {},
   "outputs": [
    {
     "name": "stdout",
     "output_type": "stream",
     "text": [
      "                  en          he                      ref\n",
      "0           Bereshit      בראשית          Genesis 1:1-6:8\n",
      "1              Noach          נח        Genesis 6:9-11:32\n",
      "2         Lech-Lecha       לך לך       Genesis 12:1-17:27\n",
      "3             Vayera        וירא       Genesis 18:1-22:24\n",
      "4        Chayei Sara     חיי שרה       Genesis 23:1-25:18\n",
      "5             Toldot      תולדות       Genesis 25:19-28:9\n",
      "6           Vayetzei        ויצא       Genesis 28:10-32:3\n",
      "7         Vayishlach       וישלח       Genesis 32:4-36:43\n",
      "8           Vayeshev        וישב       Genesis 37:1-40:23\n",
      "9             Miketz         מקץ       Genesis 41:1-44:17\n",
      "10          Vayigash        ויגש      Genesis 44:18-47:27\n",
      "11           Vayechi        ויחי      Genesis 47:28-50:26\n",
      "12            Shemot        שמות           Exodus 1:1-6:1\n",
      "13             Vaera        וארא          Exodus 6:2-9:35\n",
      "14                Bo          בא        Exodus 10:1-13:16\n",
      "15         Beshalach        בשלח       Exodus 13:17-17:16\n",
      "16             Yitro        יתרו        Exodus 18:1-20:23\n",
      "17         Mishpatim      משפטים        Exodus 21:1-24:18\n",
      "18           Terumah       תרומה        Exodus 25:1-27:19\n",
      "19          Tetzaveh        תצוה       Exodus 27:20-30:10\n",
      "20           Ki Tisa      כי תשא       Exodus 30:11-34:35\n",
      "21          Vayakhel       ויקהל        Exodus 35:1-38:20\n",
      "22           Pekudei       פקודי       Exodus 38:21-40:38\n",
      "23           Vayikra       ויקרא       Leviticus 1:1-5:26\n",
      "24              Tzav          צו       Leviticus 6:1-8:36\n",
      "25            Shmini       שמיני      Leviticus 9:1-11:47\n",
      "26            Tazria       תזריע     Leviticus 12:1-13:59\n",
      "27           Metzora       מצורע     Leviticus 14:1-15:33\n",
      "28        Achrei Mot    אחרי מות     Leviticus 16:1-18:30\n",
      "29          Kedoshim      קדושים     Leviticus 19:1-20:27\n",
      "30              Emor        אמור     Leviticus 21:1-24:23\n",
      "31             Behar         בהר      Leviticus 25:1-26:2\n",
      "32        Bechukotai      בחוקתי     Leviticus 26:3-27:34\n",
      "33          Bamidbar       במדבר         Numbers 1:1-4:20\n",
      "34             Nasso         נשא        Numbers 4:21-7:89\n",
      "35      Beha'alotcha     בהעלותך        Numbers 8:1-12:16\n",
      "36           Sh'lach         שלח       Numbers 13:1-15:41\n",
      "37            Korach         קרח       Numbers 16:1-18:32\n",
      "38            Chukat         חקת        Numbers 19:1-22:1\n",
      "39             Balak         בלק        Numbers 22:2-25:9\n",
      "40           Pinchas        פנחס       Numbers 25:10-30:1\n",
      "41             Matot        מטות       Numbers 30:2-32:42\n",
      "42             Masei        מסעי       Numbers 33:1-36:13\n",
      "43           Devarim       דברים     Deuteronomy 1:1-3:22\n",
      "44        Vaetchanan      ואתחנן    Deuteronomy 3:23-7:11\n",
      "45             Eikev         עקב   Deuteronomy 7:12-11:25\n",
      "46             Re'eh         ראה  Deuteronomy 11:26-16:17\n",
      "47           Shoftim      שופטים   Deuteronomy 16:18-21:9\n",
      "48        Ki Teitzei      כי תצא  Deuteronomy 21:10-25:19\n",
      "49           Ki Tavo     כי תבוא    Deuteronomy 26:1-29:8\n",
      "50          Nitzavim       נצבים   Deuteronomy 29:9-30:20\n",
      "51         Vayeilech        וילך      Deuteronomy 31:1-30\n",
      "52          Ha'Azinu      האזינו      Deuteronomy 32:1-52\n",
      "53  V'Zot HaBerachah  וזאת הברכה   Deuteronomy 33:1-34:12\n"
     ]
    }
   ],
   "source": [
    "#https://github.com/Sefaria/Sefaria-Project/blob/master/data/parasha_coverage.csv\n",
    "import pandas as pd\n",
    "\n",
    "# Raw URL to access the CSV file\n",
    "url = 'https://raw.githubusercontent.com/Sefaria/Sefaria-Project/master/data/tmp/parsha.csv'\n",
    "# Load the CSV file into a DataFrame\n",
    "parashot = pd.read_csv(url)\n",
    "\n",
    "# Display the DataFrame\n",
    "print(parashot)\n"
   ]
  },
  {
   "cell_type": "code",
   "execution_count": 20,
   "metadata": {},
   "outputs": [
    {
     "name": "stdout",
     "output_type": "stream",
     "text": [
      "['parashots', 'sefira', 'english_Noach.json']\n"
     ]
    },
    {
     "data": {
      "text/plain": [
       "[14, 24, 22, 29, 32, 32]"
      ]
     },
     "execution_count": 20,
     "metadata": {},
     "output_type": "execute_result"
    }
   ],
   "source": [
    "import json\n",
    "def processJSON(f):\n",
    "\n",
    "    parts = json.load(open(f))['versions'][0]['text']\n",
    "    print(f.split(\"\\\\\"))\n",
    "    return (parts)\n",
    "\n",
    "[len(i) for i in processJSON(\"parashots\\sefira\\english_Noach.json\")]"
   ]
  }
 ],
 "metadata": {
  "kernelspec": {
   "display_name": "Python 3",
   "language": "python",
   "name": "python3"
  },
  "language_info": {
   "codemirror_mode": {
    "name": "ipython",
    "version": 3
   },
   "file_extension": ".py",
   "mimetype": "text/x-python",
   "name": "python",
   "nbconvert_exporter": "python",
   "pygments_lexer": "ipython3",
   "version": "3.10.9"
  }
 },
 "nbformat": 4,
 "nbformat_minor": 2
}
